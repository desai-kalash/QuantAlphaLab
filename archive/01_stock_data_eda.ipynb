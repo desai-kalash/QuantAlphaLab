{
 "cells": [
  {
   "cell_type": "code",
   "execution_count": 1,
   "id": "0e3454f3",
   "metadata": {},
   "outputs": [
    {
     "name": "stdout",
     "output_type": "stream",
     "text": [
      "YF.download() has changed argument auto_adjust default to True\n"
     ]
    },
    {
     "name": "stderr",
     "output_type": "stream",
     "text": [
      "[*********************100%***********************]  1 of 1 completed"
     ]
    },
    {
     "name": "stdout",
     "output_type": "stream",
     "text": [
      "Cleaned columns: ['open', 'high', 'low', 'close', 'volume']\n",
      "✅ Final dataset saved to /data/final_stock_data.csv\n",
      "📊 Final shape: (1208, 16)\n"
     ]
    },
    {
     "name": "stderr",
     "output_type": "stream",
     "text": [
      "\n"
     ]
    }
   ],
   "source": [
    "# 📦 Import libraries\n",
    "import yfinance as yf\n",
    "import pandas as pd\n",
    "import matplotlib.pyplot as plt\n",
    "import seaborn as sns\n",
    "import pandas_ta as ta\n",
    "\n",
    "# 📊 Set plot style\n",
    "sns.set(style=\"whitegrid\")\n",
    "\n",
    "# 📈 Step 1: Download historical stock data (clean single-level format)\n",
    "ticker = \"AAPL\"\n",
    "start_date = \"2020-01-01\"\n",
    "end_date = \"2024-12-31\"\n",
    "data = yf.download(ticker, start=start_date, end=end_date)\n",
    "\n",
    "# 📛 Rename columns to standard lowercase names\n",
    "data.columns = ['open', 'high', 'low', 'close', 'volume']\n",
    "\n",
    "# 🛠 Step 2: Flatten MultiIndex columns if present (fix for yfinance format)\n",
    "if isinstance(data.columns, pd.MultiIndex):\n",
    "    data.columns = data.columns.get_level_values(1)\n",
    "\n",
    "# Rename columns to lowercase for consistency\n",
    "data.columns = [col.lower() for col in data.columns]\n",
    "\n",
    "# ✅ Preview cleaned columns\n",
    "print(\"Cleaned columns:\", data.columns.tolist())\n",
    "\n",
    "# 🔁 Step 3: Calculate Daily Return\n",
    "data['daily_return'] = data['close'].pct_change()\n",
    "\n",
    "# 🧠 Step 4: Add Technical Indicators\n",
    "data['SMA_20'] = ta.sma(data['close'], length=20)\n",
    "data['SMA_50'] = ta.sma(data['close'], length=50)\n",
    "data['RSI'] = ta.rsi(data['close'], length=14)\n",
    "\n",
    "# MACD\n",
    "macd = ta.macd(data['close'])\n",
    "if macd is not None:\n",
    "    data['MACD'] = macd['MACD_12_26_9']\n",
    "    data['Signal_Line'] = macd['MACDs_12_26_9']\n",
    "\n",
    "# Bollinger Bands\n",
    "bb = ta.bbands(data['close'])\n",
    "\n",
    "if bb is not None and bb.shape[1] >= 3:\n",
    "    # Automatically get the first 3 columns (Upper, Middle, Lower)\n",
    "    data['BB_upper'] = bb.iloc[:, 0]\n",
    "    data['BB_middle'] = bb.iloc[:, 1]\n",
    "    data['BB_lower'] = bb.iloc[:, 2]\n",
    "else:\n",
    "    print(\"⚠️ Bollinger Bands not returned correctly.\")\n",
    "\n",
    "# ✨ Step 5: Create ML Labels (Buy/Sell/Hold)\n",
    "# Look ahead 3 trading days to capture momentum\n",
    "lookahead_days = 3\n",
    "data['future_return'] = data['close'].shift(-lookahead_days) / data['close'] - 1\n",
    "\n",
    "# Set wider thresholds to catch real movements\n",
    "def classify_signal(x):\n",
    "    if x > 0.02:\n",
    "        return 1   # Buy\n",
    "    elif x < -0.02:\n",
    "        return -1  # Sell\n",
    "    else:\n",
    "        return 0   # Hold\n",
    "\n",
    "data['Signal'] = data['future_return'].apply(classify_signal)\n",
    "\n",
    "# 🧹 Step 6: Final cleanup — drop rows with missing features or labels\n",
    "required_cols = ['SMA_20', 'SMA_50', 'RSI', 'MACD', 'BB_upper', 'BB_middle', 'BB_lower', 'Signal']\n",
    "available = [col for col in required_cols if col in data.columns]\n",
    "data.dropna(subset=available, inplace=True)\n",
    "\n",
    "# Convert target to integer\n",
    "data['Signal'] = data['Signal'].astype(int)\n",
    "\n",
    "# 💾 Step 7: Save the final processed dataset to CSV\n",
    "data.to_csv('../data/final_stock_data.csv')\n",
    "print(\"✅ Final dataset saved to /data/final_stock_data.csv\")\n",
    "print(\"📊 Final shape:\", data.shape)\n"
   ]
  }
 ],
 "metadata": {
  "kernelspec": {
   "display_name": "venv",
   "language": "python",
   "name": "python3"
  },
  "language_info": {
   "codemirror_mode": {
    "name": "ipython",
    "version": 3
   },
   "file_extension": ".py",
   "mimetype": "text/x-python",
   "name": "python",
   "nbconvert_exporter": "python",
   "pygments_lexer": "ipython3",
   "version": "3.11.8"
  }
 },
 "nbformat": 4,
 "nbformat_minor": 5
}
